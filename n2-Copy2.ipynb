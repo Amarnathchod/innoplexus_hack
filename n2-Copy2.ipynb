{
 "cells": [
  {
   "cell_type": "code",
   "execution_count": 41,
   "metadata": {},
   "outputs": [],
   "source": [
    "import pandas as pd\n",
    "import numpy as np\n",
    "from scipy.spatial.distance import cosine\n",
    "import ast\n",
    "%matplotlib inline"
   ]
  },
  {
   "cell_type": "code",
   "execution_count": 42,
   "metadata": {},
   "outputs": [],
   "source": [
    "train_info = pd.read_csv('information_train.csv',delimiter='\\t')\n",
    "train= pd.read_csv('train.csv')"
   ]
  },
  {
   "cell_type": "code",
   "execution_count": 43,
   "metadata": {},
   "outputs": [],
   "source": [
    "test_info = pd.read_csv('information_test.csv',delimiter='\\t')\n",
    "test= pd.read_csv('test.csv')"
   ]
  },
  {
   "cell_type": "code",
   "execution_count": 44,
   "metadata": {
    "scrolled": true
   },
   "outputs": [],
   "source": [
    "train.ref_list=train.ref_list.apply(lambda x: ast.literal_eval(x))"
   ]
  },
  {
   "cell_type": "code",
   "execution_count": 45,
   "metadata": {},
   "outputs": [],
   "source": [
    "all_info = pd.concat((train_info,test_info)).reset_index(drop=True)"
   ]
  },
  {
   "cell_type": "code",
   "execution_count": 46,
   "metadata": {},
   "outputs": [],
   "source": [
    "all_info['author_list'] = all_info.author_str.apply(lambda x: x.split(',') if x==x else np.nan)\n",
    "\n",
    "all_info['pub_date'] = pd.to_datetime(all_info.pub_date)"
   ]
  },
  {
   "cell_type": "code",
   "execution_count": 47,
   "metadata": {
    "scrolled": true
   },
   "outputs": [],
   "source": [
    "all_info['author_list']=all_info['author_list'].apply(lambda x: [y.strip(' ').replace('.','') for y in x] if x==x else np.nan)"
   ]
  },
  {
   "cell_type": "code",
   "execution_count": 48,
   "metadata": {},
   "outputs": [],
   "source": [
    "all_info['author_list_last_names'] = all_info['author_list'].apply(\n",
    "    lambda x: [y.split(' ')[-1] for y in x] if x==x else np.nan)"
   ]
  },
  {
   "cell_type": "code",
   "execution_count": 50,
   "metadata": {},
   "outputs": [],
   "source": [
    "train.ref_list=train.ref_list.apply(lambda x: [int(y) for y in x])"
   ]
  },
  {
   "cell_type": "code",
   "execution_count": 51,
   "metadata": {},
   "outputs": [],
   "source": [
    "train_df=train.set_index('pmid').ref_list.apply(pd.Series).stack().reset_index(\n",
    "    level=-1, drop=True).astype(int).reset_index().rename(columns={0:'out_pmid'})"
   ]
  },
  {
   "cell_type": "code",
   "execution_count": 52,
   "metadata": {},
   "outputs": [],
   "source": [
    "train_df['is_cited']=1"
   ]
  },
  {
   "cell_type": "code",
   "execution_count": 53,
   "metadata": {},
   "outputs": [],
   "source": [
    "train2=train.merge(all_info[['pmid','set']],how='left',on='pmid').merge(\n",
    "    all_info[['pmid','set']],on='set',how='left')[\n",
    "    ['pmid_x','pmid_y']].rename(columns={'pmid_x':'pmid','pmid_y':'out_pmid'})"
   ]
  },
  {
   "cell_type": "code",
   "execution_count": 54,
   "metadata": {},
   "outputs": [],
   "source": [
    "train2['is_cited']=0"
   ]
  },
  {
   "cell_type": "code",
   "execution_count": 55,
   "metadata": {},
   "outputs": [],
   "source": [
    "train_df= pd.concat((train_df,train2)).reset_index(drop=True).drop_duplicates(['pmid','out_pmid'])"
   ]
  },
  {
   "cell_type": "code",
   "execution_count": 56,
   "metadata": {},
   "outputs": [],
   "source": [
    "train_df=train_df[train_df.pmid!=train_df.out_pmid].reset_index(drop=True)"
   ]
  },
  {
   "cell_type": "code",
   "execution_count": 57,
   "metadata": {},
   "outputs": [],
   "source": [
    "test_df = test.merge(all_info[['pmid','set']],how='left',on='pmid').merge(\n",
    "    all_info[['pmid','set']],on='set',how='left')[\n",
    "    ['pmid_x','pmid_y']].rename(columns={'pmid_x':'pmid','pmid_y':'out_pmid'})"
   ]
  },
  {
   "cell_type": "code",
   "execution_count": 58,
   "metadata": {},
   "outputs": [],
   "source": [
    "test_df=test_df[test_df.pmid!=test_df.out_pmid].reset_index(drop=True)"
   ]
  },
  {
   "cell_type": "code",
   "execution_count": 59,
   "metadata": {},
   "outputs": [],
   "source": [
    "ntrain = train_df.shape[0]\n",
    "all_df = pd.concat((train_df.drop('is_cited',axis=1),test_df)).reset_index(drop=True)"
   ]
  },
  {
   "cell_type": "code",
   "execution_count": 60,
   "metadata": {},
   "outputs": [],
   "source": [
    "all_df=all_df.merge(all_info,on='pmid',how='left').merge(\n",
    "    all_info,left_on='out_pmid',right_on='pmid',suffixes=('_in','_out'),how='left')"
   ]
  },
  {
   "cell_type": "code",
   "execution_count": 61,
   "metadata": {},
   "outputs": [],
   "source": [
    "all_df['author_str_in']=all_df.author_list_last_names_in.apply(lambda x: ' '.join(x) if x==x else '')\n",
    "all_df['author_str_out']=all_df.author_list_last_names_out.apply(lambda x: ' '.join(x) if x==x else '')"
   ]
  },
  {
   "cell_type": "code",
   "execution_count": 63,
   "metadata": {},
   "outputs": [],
   "source": [
    "all_df['no_of_art_in_set'] = np.nan\n",
    "all_df['int_auth']  = np.nan\n",
    "all_df['un_auth'] = np.nan\n",
    "all_df['title_sim'] = np.nan\n",
    "all_df['abs_sim'] = np.nan"
   ]
  },
  {
   "cell_type": "code",
   "execution_count": 64,
   "metadata": {},
   "outputs": [],
   "source": [
    "from sklearn.feature_extraction.text import TfidfVectorizer, CountVectorizer\n",
    "cvect = CountVectorizer(max_features=5000, ngram_range=(1,1), min_df=1, decode_error='ignore',strip_accents='ascii',\n",
    "                stop_words='english')\n",
    "article_mat= cvect.fit_transform(all_info.article_title).toarray()\n",
    "cvect2 = TfidfVectorizer(max_features=5000, ngram_range=(1,2), min_df=10, decode_error='ignore',strip_accents='ascii',\n",
    "                stop_words='english')\n",
    "abstract_mat= cvect2.fit_transform(all_info.abstract).toarray()"
   ]
  },
  {
   "cell_type": "code",
   "execution_count": 67,
   "metadata": {},
   "outputs": [],
   "source": [
    "from multiprocessing import cpu_count, Pool\n",
    "from scipy.spatial.distance import cosine\n",
    "cores = cpu_count() \n",
    "partitions = cores\n",
    "\n",
    "def get_foo(row):\n",
    "    global count\n",
    "    count+=1\n",
    "    if count%10000==0: print count\n",
    "#     set_idx = all_df.set_in==set_no\n",
    "#     article_set = all_df[set_idx]\n",
    "#     all_df.loc[set_idx,'no_of_art_in_set'] = all_info[all_info.set==set_no].shape[0]\n",
    "#     print article_set.shape\n",
    "    s1= set(row['author_list_last_names_in']) if row['author_list_last_names_in']==row['author_list_last_names_in'] else set()\n",
    "    s2= set(row['author_list_last_names_out']) if row['author_list_last_names_out']==row['author_list_last_names_out'] else set()\n",
    "    row['int_auth'] = len((s1).intersection(s2))\n",
    "    row['un_auth'] = len(s1.union(s2))\n",
    "    row['title_sim']= 1- cosine(article_mat[all_info.pmid==row['pmid_in']][0], article_mat[all_info.pmid==row['out_pmid']][0])\n",
    "    row['abs_sim']= 1- cosine(abstract_mat[all_info.pmid==row['pmid_in']][0], abstract_mat[all_info.pmid==row['out_pmid']][0])\n",
    "    return row\n",
    "\n",
    "def apply_func(data):\n",
    "    return data.apply(get_foo,axis=1)\n",
    "    \n",
    "def parallelize(data):\n",
    "    data_split = np.array_split(data, partitions)\n",
    "    pool = Pool(cores)\n",
    "    data = pd.concat(pool.map(apply_func, data_split))\n",
    "    pool.close()\n",
    "    pool.join()\n",
    "    return data"
   ]
  },
  {
   "cell_type": "code",
   "execution_count": null,
   "metadata": {
    "scrolled": true
   },
   "outputs": [],
   "source": [
    "count=0\n",
    "all_df=parallelize(all_df)"
   ]
  },
  {
   "cell_type": "code",
   "execution_count": 71,
   "metadata": {
    "scrolled": true
   },
   "outputs": [],
   "source": [
    "all_df['diff_pmid'] = all_df.pmid_in - all_df.out_pmid\n",
    "all_df['diff_date'] = ((all_df.pub_date_in - all_df.pub_date_out).dt.days/30).astype('int')"
   ]
  },
  {
   "cell_type": "code",
   "execution_count": 72,
   "metadata": {},
   "outputs": [],
   "source": [
    "all_df['iou'] = all_df.int_auth/all_df.un_auth"
   ]
  },
  {
   "cell_type": "code",
   "execution_count": 74,
   "metadata": {},
   "outputs": [],
   "source": [
    "drop_fea= [u'pmid_in', u'out_pmid', \n",
    "           u'abstract_in', u'article_title_in',\n",
    "       u'author_str_in', \n",
    "           u'pub_date_in', \n",
    "           u'set_in', u'full_Text_in',\n",
    "       u'author_list_in', u'author_list_last_names_in', u'abstract_out',\n",
    "       u'article_title_out', u'author_str_out', \n",
    "           u'pmid_out', \n",
    "           u'pub_date_out',\n",
    "       u'set_out', u'full_Text_out', u'author_list_out',\n",
    "       u'author_list_last_names_out',\n",
    "           u'diff_pmid',u'int_auth',\n",
    "       u'un_auth']\n",
    "train_X = all_df.drop(drop_fea,axis=1)[:ntrain]\n",
    "test_X = all_df.drop(drop_fea,axis=1)[ntrain:]"
   ]
  },
  {
   "cell_type": "code",
   "execution_count": 75,
   "metadata": {
    "scrolled": true
   },
   "outputs": [],
   "source": [
    "from sklearn.model_selection import train_test_split\n",
    "xtrain,xval,ytrain,yval= train_test_split(train_X,train_df.is_cited,test_size=0.2,random_state=7)\n",
    "import lightgbm as lgb\n",
    "lgb_train = lgb.Dataset(xtrain, ytrain)\n",
    "lgb_eval = lgb.Dataset(xval, yval, reference=lgb_train)"
   ]
  },
  {
   "cell_type": "code",
   "execution_count": null,
   "metadata": {},
   "outputs": [],
   "source": [
    "import lightgbm as lgb\n",
    "params = {\n",
    "    'task': 'train',\n",
    "    'boosting_type': 'gbdt',\n",
    "    'objective': 'binary',\n",
    "#     'num_classes':3,\n",
    "    'metric': 'auc',\n",
    "    'num_leaves': 31,\n",
    "    'learning_rate': 0.05,\n",
    "    'feature_fraction': 0.8,\n",
    "#     'colsample_by_tree':0.8,\n",
    "    'bagging_fraction': 0.8,\n",
    "    'bagging_freq': 3,\n",
    "    'verbose': 1, \n",
    "   'min_data_in_leaf': 10\n",
    "    , \n",
    "   'max_depth' : 4\n",
    "#     'early_stopping_round': 200, \n",
    "#     'num_iterations' : 1000\n",
    "}\n",
    "gbm = lgb.train(params,\n",
    "                lgb_train,\n",
    "                num_boost_round=5000,\n",
    "                valid_sets=lgb_eval,\n",
    "#                 feval=exp_met,\n",
    "                early_stopping_rounds=200)"
   ]
  },
  {
   "cell_type": "code",
   "execution_count": 77,
   "metadata": {},
   "outputs": [
    {
     "data": {
      "text/plain": [
       "<matplotlib.axes._subplots.AxesSubplot at 0x10e623e90>"
      ]
     },
     "execution_count": 77,
     "metadata": {},
     "output_type": "execute_result"
    },
    {
     "data": {
      "image/png": "[encoded data removed]",
      "text/plain": [
       "<Figure size 432x288 with 1 Axes>"
      ]
     },
     "metadata": {},
     "output_type": "display_data"
    }
   ],
   "source": [
    "lgb.plot_importance(gbm,importance_type='gain')"
   ]
  },
  {
   "cell_type": "code",
   "execution_count": 78,
   "metadata": {},
   "outputs": [],
   "source": [
    "preds=gbm.predict(test_X)"
   ]
  },
  {
   "cell_type": "code",
   "execution_count": 79,
   "metadata": {},
   "outputs": [],
   "source": [
    "test_df['pred']= preds"
   ]
  },
  {
   "cell_type": "code",
   "execution_count": 80,
   "metadata": {
    "scrolled": true
   },
   "outputs": [],
   "source": [
    "arr=[]\n",
    "for pmid, grp in test_df.groupby('pmid'):\n",
    "    sind=grp['pred'].values.argsort()[::-1]\n",
    "    keep1=np.sort(grp['pred'].values)[::-1]>0.5\n",
    "    if (sum(np.sort(grp['pred'].values)[::-1]>0.5))>0:\n",
    "        arr.append((pmid,list(grp['out_pmid'].values[sind][keep1])))\n",
    "    elif (sum(np.sort(grp['pred'].values)[::-1]>0.4)>0):\n",
    "        keep1=np.sort(grp['pred'].values)[::-1]>0.4\n",
    "        arr.append((pmid,list(grp['out_pmid'].values[sind][keep1])))\n",
    "    elif (sum(np.sort(grp['pred'].values)[::-1]>0.3)>0):\n",
    "        keep1=np.sort(grp['pred'].values)[::-1]>0.3\n",
    "        arr.append((pmid,list(grp['out_pmid'].values[sind][keep1])))\n",
    "    elif (sum(np.sort(grp['pred'].values)[::-1]>0.2)>0):\n",
    "        keep1=np.sort(grp['pred'].values)[::-1]>0.2\n",
    "        arr.append((pmid,list(grp['out_pmid'].values[sind][keep1])))\n",
    "    elif (sum(np.sort(grp['pred'].values)[::-1]>0.1)>0):\n",
    "        keep1=np.sort(grp['pred'].values)[::-1]>0.1\n",
    "        arr.append((pmid,list(grp['out_pmid'].values[sind][keep1])))\n",
    "    else:\n",
    "#         arr.append((pmid,[]))\n",
    "#         print np.sort(grp['pred'].values)[::-1][:2]\n",
    "        arr.append((pmid,list(grp['out_pmid'].values[sind][:4])))\n",
    "    "
   ]
  },
  {
   "cell_type": "code",
   "execution_count": 81,
   "metadata": {},
   "outputs": [],
   "source": [
    "out_df = pd.DataFrame(arr,columns=['pmid','ref_list'])#.to_csv('sub_new.csv',index=False)"
   ]
  },
  {
   "cell_type": "code",
   "execution_count": 82,
   "metadata": {},
   "outputs": [],
   "source": [
    "def get_same_articles(row):\n",
    "\n",
    "    pmid=row['pmid']\n",
    "    ref_list=row['ref_list']\n",
    "    if pmid!=pmid:\n",
    "        return\n",
    "    set_no = all_info[all_info.pmid==pmid].set.values[0]\n",
    "    set_articles = all_info[all_info['set']==set_no]\n",
    "    if (pmid-1) in set_articles.pmid.values:\n",
    "        if (pmid-1) not in ref_list:\n",
    "            ref_list.append(pmid-1)\n",
    "    if (pmid-2) in set_articles.pmid.values:\n",
    "        if (pmid-2) not in ref_list:\n",
    "            ref_list.append(pmid-2)\n",
    "    ref_list=[x for x in ref_list if x!=pmid]\n",
    "    row['ref_list']=ref_list\n",
    "    return row"
   ]
  },
  {
   "cell_type": "code",
   "execution_count": 83,
   "metadata": {},
   "outputs": [],
   "source": [
    "out_df=out_df.apply(get_same_articles,axis=1)"
   ]
  },
  {
   "cell_type": "code",
   "execution_count": 84,
   "metadata": {},
   "outputs": [],
   "source": [
    "out_df.to_csv('sub_new.csv',index=False)"
   ]
  }
 ],
 "metadata": {
  "kernelspec": {
   "display_name": "Python 2",
   "language": "python",
   "name": "python2"
  },
  "language_info": {
   "codemirror_mode": {
    "name": "ipython",
    "version": 2
   },
   "file_extension": ".py",
   "mimetype": "text/x-python",
   "name": "python",
   "nbconvert_exporter": "python",
   "pygments_lexer": "ipython2",
   "version": "2.7.13"
  }
 },
 "nbformat": 4,
 "nbformat_minor": 2
}
